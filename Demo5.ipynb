{
 "cells": [
  {
   "cell_type": "code",
   "execution_count": 1,
   "id": "3f693894-046c-4aa1-b98b-1283a3fcd281",
   "metadata": {},
   "outputs": [],
   "source": [
    "import pandas as pd"
   ]
  },
  {
   "cell_type": "code",
   "execution_count": 2,
   "id": "b37ada7c-56a3-44a8-a3b5-982bab5bb458",
   "metadata": {},
   "outputs": [],
   "source": [
    "#dataset\n",
    "data={\n",
    "    \"Student\":[\"Amit\",\"Jhon\",\"Kapil\",\"Mukund\",\"Sachin\"],\n",
    "    \"Rank\":[1,4,3,5,2],\n",
    "    \"Marks\":[90,70,80,60,90]\n",
    "     }\n",
    "df=pd.DataFrame(data,index=[\"Student1\",\"Student2\",\"Student3\",\"Student4\",\"Student5\"])"
   ]
  },
  {
   "cell_type": "code",
   "execution_count": 3,
   "id": "d026dc01-4e6b-4531-b0e6-9412c60e7c62",
   "metadata": {},
   "outputs": [
    {
     "data": {
      "text/html": [
       "<div>\n",
       "<style scoped>\n",
       "    .dataframe tbody tr th:only-of-type {\n",
       "        vertical-align: middle;\n",
       "    }\n",
       "\n",
       "    .dataframe tbody tr th {\n",
       "        vertical-align: top;\n",
       "    }\n",
       "\n",
       "    .dataframe thead th {\n",
       "        text-align: right;\n",
       "    }\n",
       "</style>\n",
       "<table border=\"1\" class=\"dataframe\">\n",
       "  <thead>\n",
       "    <tr style=\"text-align: right;\">\n",
       "      <th></th>\n",
       "      <th>Student</th>\n",
       "      <th>Rank</th>\n",
       "      <th>Marks</th>\n",
       "    </tr>\n",
       "  </thead>\n",
       "  <tbody>\n",
       "    <tr>\n",
       "      <th>Student1</th>\n",
       "      <td>Amit</td>\n",
       "      <td>1</td>\n",
       "      <td>90</td>\n",
       "    </tr>\n",
       "    <tr>\n",
       "      <th>Student2</th>\n",
       "      <td>Jhon</td>\n",
       "      <td>4</td>\n",
       "      <td>70</td>\n",
       "    </tr>\n",
       "    <tr>\n",
       "      <th>Student3</th>\n",
       "      <td>Kapil</td>\n",
       "      <td>3</td>\n",
       "      <td>80</td>\n",
       "    </tr>\n",
       "    <tr>\n",
       "      <th>Student4</th>\n",
       "      <td>Mukund</td>\n",
       "      <td>5</td>\n",
       "      <td>60</td>\n",
       "    </tr>\n",
       "    <tr>\n",
       "      <th>Student5</th>\n",
       "      <td>Sachin</td>\n",
       "      <td>2</td>\n",
       "      <td>90</td>\n",
       "    </tr>\n",
       "  </tbody>\n",
       "</table>\n",
       "</div>"
      ],
      "text/plain": [
       "         Student  Rank  Marks\n",
       "Student1    Amit     1     90\n",
       "Student2    Jhon     4     70\n",
       "Student3   Kapil     3     80\n",
       "Student4  Mukund     5     60\n",
       "Student5  Sachin     2     90"
      ]
     },
     "execution_count": 3,
     "metadata": {},
     "output_type": "execute_result"
    }
   ],
   "source": [
    "df"
   ]
  },
  {
   "cell_type": "code",
   "execution_count": 4,
   "id": "22dce045-44c0-4662-9f46-a349e870dfd1",
   "metadata": {},
   "outputs": [
    {
     "name": "stdout",
     "output_type": "stream",
     "text": [
      "Student\n",
      "Rank\n",
      "Marks\n"
     ]
    }
   ],
   "source": [
    "for row in df:\n",
    "    print(row)"
   ]
  },
  {
   "cell_type": "code",
   "execution_count": 6,
   "id": "a002664c-524f-4e80-9352-4c36577102e9",
   "metadata": {},
   "outputs": [
    {
     "name": "stdout",
     "output_type": "stream",
     "text": [
      "Student1      Amit\n",
      "Student2      Jhon\n",
      "Student3     Kapil\n",
      "Student4    Mukund\n",
      "Student5    Sachin\n",
      "Name: Student, dtype: object\n",
      "Student1      Amit\n",
      "Student2      Jhon\n",
      "Student3     Kapil\n",
      "Student4    Mukund\n",
      "Student5    Sachin\n",
      "Name: Student, dtype: object\n",
      "Student1      Amit\n",
      "Student2      Jhon\n",
      "Student3     Kapil\n",
      "Student4    Mukund\n",
      "Student5    Sachin\n",
      "Name: Student, dtype: object\n",
      "Student1      Amit\n",
      "Student2      Jhon\n",
      "Student3     Kapil\n",
      "Student4    Mukund\n",
      "Student5    Sachin\n",
      "Name: Student, dtype: object\n",
      "Student1      Amit\n",
      "Student2      Jhon\n",
      "Student3     Kapil\n",
      "Student4    Mukund\n",
      "Student5    Sachin\n",
      "Name: Student, dtype: object\n",
      "Student1      Amit\n",
      "Student2      Jhon\n",
      "Student3     Kapil\n",
      "Student4    Mukund\n",
      "Student5    Sachin\n",
      "Name: Student, dtype: object\n",
      "Student1      Amit\n",
      "Student2      Jhon\n",
      "Student3     Kapil\n",
      "Student4    Mukund\n",
      "Student5    Sachin\n",
      "Name: Student, dtype: object\n",
      "Student1      Amit\n",
      "Student2      Jhon\n",
      "Student3     Kapil\n",
      "Student4    Mukund\n",
      "Student5    Sachin\n",
      "Name: Student, dtype: object\n",
      "Student1      Amit\n",
      "Student2      Jhon\n",
      "Student3     Kapil\n",
      "Student4    Mukund\n",
      "Student5    Sachin\n",
      "Name: Student, dtype: object\n",
      "Student1      Amit\n",
      "Student2      Jhon\n",
      "Student3     Kapil\n",
      "Student4    Mukund\n",
      "Student5    Sachin\n",
      "Name: Student, dtype: object\n",
      "Student1      Amit\n",
      "Student2      Jhon\n",
      "Student3     Kapil\n",
      "Student4    Mukund\n",
      "Student5    Sachin\n",
      "Name: Student, dtype: object\n",
      "Student1      Amit\n",
      "Student2      Jhon\n",
      "Student3     Kapil\n",
      "Student4    Mukund\n",
      "Student5    Sachin\n",
      "Name: Student, dtype: object\n",
      "Student1      Amit\n",
      "Student2      Jhon\n",
      "Student3     Kapil\n",
      "Student4    Mukund\n",
      "Student5    Sachin\n",
      "Name: Student, dtype: object\n",
      "Student1      Amit\n",
      "Student2      Jhon\n",
      "Student3     Kapil\n",
      "Student4    Mukund\n",
      "Student5    Sachin\n",
      "Name: Student, dtype: object\n",
      "Student1      Amit\n",
      "Student2      Jhon\n",
      "Student3     Kapil\n",
      "Student4    Mukund\n",
      "Student5    Sachin\n",
      "Name: Student, dtype: object\n",
      "Student1      Amit\n",
      "Student2      Jhon\n",
      "Student3     Kapil\n",
      "Student4    Mukund\n",
      "Student5    Sachin\n",
      "Name: Student, dtype: object\n"
     ]
    }
   ],
   "source": [
    "for row in df:\n",
    "    print(df[\"Student\"])"
   ]
  },
  {
   "cell_type": "code",
   "execution_count": null,
   "id": "6edb9c51-af41-430d-a2ee-8aadc4792393",
   "metadata": {},
   "outputs": [],
   "source": []
  }
 ],
 "metadata": {
  "kernelspec": {
   "display_name": "Python 3 (ipykernel)",
   "language": "python",
   "name": "python3"
  },
  "language_info": {
   "codemirror_mode": {
    "name": "ipython",
    "version": 3
   },
   "file_extension": ".py",
   "mimetype": "text/x-python",
   "name": "python",
   "nbconvert_exporter": "python",
   "pygments_lexer": "ipython3",
   "version": "3.11.1"
  }
 },
 "nbformat": 4,
 "nbformat_minor": 5
}
