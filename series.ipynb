{
 "cells": [
  {
   "cell_type": "code",
   "execution_count": 14,
   "id": "3765fb04-b2ca-477d-9d3a-97e73d8d8357",
   "metadata": {},
   "outputs": [],
   "source": [
    "import pandas as pd"
   ]
  },
  {
   "cell_type": "code",
   "execution_count": 15,
   "id": "0fbc03e4-396d-4792-a629-e5dc55e12ec5",
   "metadata": {},
   "outputs": [],
   "source": [
    "data=[11,22,13,34,45]\n",
    "data1=[51,52,63,74,85]"
   ]
  },
  {
   "cell_type": "code",
   "execution_count": 16,
   "id": "bf8809fe-9760-4454-9202-507f87df39d7",
   "metadata": {},
   "outputs": [
    {
     "data": {
      "text/plain": [
       "[11, 22, 13, 34, 45]"
      ]
     },
     "execution_count": 16,
     "metadata": {},
     "output_type": "execute_result"
    }
   ],
   "source": [
    "data"
   ]
  },
  {
   "cell_type": "code",
   "execution_count": 17,
   "id": "ae049156-fd5f-4a26-94e6-6bc80cb39ac8",
   "metadata": {},
   "outputs": [
    {
     "data": {
      "text/plain": [
       "[51, 52, 63, 74, 85]"
      ]
     },
     "execution_count": 17,
     "metadata": {},
     "output_type": "execute_result"
    }
   ],
   "source": [
    "data1"
   ]
  },
  {
   "cell_type": "code",
   "execution_count": 18,
   "id": "3b9490ff-db62-4c9d-a410-7ed8fc485acd",
   "metadata": {},
   "outputs": [],
   "source": [
    "s1=pd.Series(data)\n",
    "s2=pd.Series(data1)"
   ]
  },
  {
   "cell_type": "markdown",
   "id": "8c92b7b7-c229-4974-9816-92b4b59ddee3",
   "metadata": {},
   "source": [
    "# "
   ]
  },
  {
   "cell_type": "code",
   "execution_count": 19,
   "id": "c4e9b986-3561-4c6f-a73d-dbbdd3c231f1",
   "metadata": {},
   "outputs": [
    {
     "data": {
      "text/plain": [
       "0    11\n",
       "1    22\n",
       "2    13\n",
       "3    34\n",
       "4    45\n",
       "dtype: int64"
      ]
     },
     "execution_count": 19,
     "metadata": {},
     "output_type": "execute_result"
    }
   ],
   "source": [
    "s1"
   ]
  },
  {
   "cell_type": "code",
   "execution_count": 20,
   "id": "66fc9241-48c6-41d3-8188-792b0d5dba76",
   "metadata": {},
   "outputs": [
    {
     "data": {
      "text/plain": [
       "0    51\n",
       "1    52\n",
       "2    63\n",
       "3    74\n",
       "4    85\n",
       "dtype: int64"
      ]
     },
     "execution_count": 20,
     "metadata": {},
     "output_type": "execute_result"
    }
   ],
   "source": [
    "s2"
   ]
  },
  {
   "cell_type": "code",
   "execution_count": 21,
   "id": "17b92cdf-4b30-4f7c-be03-da5c3eff118d",
   "metadata": {},
   "outputs": [],
   "source": [
    "def max_values(x1,x2):\n",
    "    if x1>x2:\n",
    "        print(x1)\n",
    "    else:\n",
    "        print(x2)"
   ]
  },
  {
   "cell_type": "code",
   "execution_count": 23,
   "id": "579e1a56-fe87-4c0a-9e62-f81df2426fd5",
   "metadata": {},
   "outputs": [
    {
     "name": "stdout",
     "output_type": "stream",
     "text": [
      "51\n",
      "52\n",
      "63\n",
      "74\n",
      "85\n"
     ]
    }
   ],
   "source": [
    "res=s1.combine(s2,max_values)"
   ]
  },
  {
   "cell_type": "code",
   "execution_count": null,
   "id": "abfda918-8f27-4408-8183-8ddfca4ab235",
   "metadata": {},
   "outputs": [],
   "source": []
  }
 ],
 "metadata": {
  "kernelspec": {
   "display_name": "Python 3 (ipykernel)",
   "language": "python",
   "name": "python3"
  },
  "language_info": {
   "codemirror_mode": {
    "name": "ipython",
    "version": 3
   },
   "file_extension": ".py",
   "mimetype": "text/x-python",
   "name": "python",
   "nbconvert_exporter": "python",
   "pygments_lexer": "ipython3",
   "version": "3.11.1"
  }
 },
 "nbformat": 4,
 "nbformat_minor": 5
}
