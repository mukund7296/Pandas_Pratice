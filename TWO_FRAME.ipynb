{
 "cells": [
  {
   "cell_type": "code",
   "execution_count": 2,
   "id": "c40bad5a-c6c4-4650-9fa7-2021db2d8cd8",
   "metadata": {},
   "outputs": [],
   "source": [
    "import pandas as pd"
   ]
  },
  {
   "cell_type": "code",
   "execution_count": 3,
   "id": "0d5ab948-442c-4061-81d0-d64498ea80f1",
   "metadata": {},
   "outputs": [],
   "source": [
    "#data sets\n",
    "\n",
    "data1={\"Id\":[\"S01\",\"S02\",\"S03\",\"S04\",\"S05\",\"S06\"],\n",
    "       \"Student\":[\"Mukund\",\"Sachin\",\"Rajesh\",\"Girish\",\"Mohan\",\"Amit\"],\n",
    "       \"Roll_No\":[101,102,103,104,105,106]\n",
    "      }\n",
    "data2={\n",
    "    \"Id\":[\"S07\",\"S08\",\"S09\",\"S10\"],\n",
    "    \"Student\":[\"Anita\",\"Pooja\",\"Karishma\",\"Aishwarya\"],\n",
    "    \"Roll_No\":[107,108,109,110]\n",
    "}"
   ]
  },
  {
   "cell_type": "code",
   "execution_count": 5,
   "id": "3c4ffd1f-b753-48aa-b8dd-26c23664fd0c",
   "metadata": {},
   "outputs": [],
   "source": [
    "s1=pd.DataFrame(data1)\n",
    "s2=pd.DataFrame(data2)"
   ]
  },
  {
   "cell_type": "code",
   "execution_count": 6,
   "id": "9770e254-08fa-4131-b0e1-44d4e41b3fb8",
   "metadata": {},
   "outputs": [
    {
     "data": {
      "text/html": [
       "<div>\n",
       "<style scoped>\n",
       "    .dataframe tbody tr th:only-of-type {\n",
       "        vertical-align: middle;\n",
       "    }\n",
       "\n",
       "    .dataframe tbody tr th {\n",
       "        vertical-align: top;\n",
       "    }\n",
       "\n",
       "    .dataframe thead th {\n",
       "        text-align: right;\n",
       "    }\n",
       "</style>\n",
       "<table border=\"1\" class=\"dataframe\">\n",
       "  <thead>\n",
       "    <tr style=\"text-align: right;\">\n",
       "      <th></th>\n",
       "      <th>Id</th>\n",
       "      <th>Student</th>\n",
       "      <th>Roll_No</th>\n",
       "    </tr>\n",
       "  </thead>\n",
       "  <tbody>\n",
       "    <tr>\n",
       "      <th>0</th>\n",
       "      <td>S01</td>\n",
       "      <td>Mukund</td>\n",
       "      <td>101</td>\n",
       "    </tr>\n",
       "    <tr>\n",
       "      <th>1</th>\n",
       "      <td>S02</td>\n",
       "      <td>Sachin</td>\n",
       "      <td>102</td>\n",
       "    </tr>\n",
       "    <tr>\n",
       "      <th>2</th>\n",
       "      <td>S03</td>\n",
       "      <td>Rajesh</td>\n",
       "      <td>103</td>\n",
       "    </tr>\n",
       "    <tr>\n",
       "      <th>3</th>\n",
       "      <td>S04</td>\n",
       "      <td>Girish</td>\n",
       "      <td>104</td>\n",
       "    </tr>\n",
       "    <tr>\n",
       "      <th>4</th>\n",
       "      <td>S05</td>\n",
       "      <td>Mohan</td>\n",
       "      <td>105</td>\n",
       "    </tr>\n",
       "    <tr>\n",
       "      <th>5</th>\n",
       "      <td>S06</td>\n",
       "      <td>Amit</td>\n",
       "      <td>106</td>\n",
       "    </tr>\n",
       "  </tbody>\n",
       "</table>\n",
       "</div>"
      ],
      "text/plain": [
       "    Id Student  Roll_No\n",
       "0  S01  Mukund      101\n",
       "1  S02  Sachin      102\n",
       "2  S03  Rajesh      103\n",
       "3  S04  Girish      104\n",
       "4  S05   Mohan      105\n",
       "5  S06    Amit      106"
      ]
     },
     "execution_count": 6,
     "metadata": {},
     "output_type": "execute_result"
    }
   ],
   "source": [
    "s1"
   ]
  },
  {
   "cell_type": "code",
   "execution_count": 7,
   "id": "cb19ff36-f963-465d-ab17-8ad57e135443",
   "metadata": {},
   "outputs": [
    {
     "data": {
      "text/html": [
       "<div>\n",
       "<style scoped>\n",
       "    .dataframe tbody tr th:only-of-type {\n",
       "        vertical-align: middle;\n",
       "    }\n",
       "\n",
       "    .dataframe tbody tr th {\n",
       "        vertical-align: top;\n",
       "    }\n",
       "\n",
       "    .dataframe thead th {\n",
       "        text-align: right;\n",
       "    }\n",
       "</style>\n",
       "<table border=\"1\" class=\"dataframe\">\n",
       "  <thead>\n",
       "    <tr style=\"text-align: right;\">\n",
       "      <th></th>\n",
       "      <th>Id</th>\n",
       "      <th>Student</th>\n",
       "      <th>Roll_No</th>\n",
       "    </tr>\n",
       "  </thead>\n",
       "  <tbody>\n",
       "    <tr>\n",
       "      <th>0</th>\n",
       "      <td>S07</td>\n",
       "      <td>Anita</td>\n",
       "      <td>107</td>\n",
       "    </tr>\n",
       "    <tr>\n",
       "      <th>1</th>\n",
       "      <td>S08</td>\n",
       "      <td>Pooja</td>\n",
       "      <td>108</td>\n",
       "    </tr>\n",
       "    <tr>\n",
       "      <th>2</th>\n",
       "      <td>S09</td>\n",
       "      <td>Karishma</td>\n",
       "      <td>109</td>\n",
       "    </tr>\n",
       "    <tr>\n",
       "      <th>3</th>\n",
       "      <td>S10</td>\n",
       "      <td>Aishwarya</td>\n",
       "      <td>110</td>\n",
       "    </tr>\n",
       "  </tbody>\n",
       "</table>\n",
       "</div>"
      ],
      "text/plain": [
       "    Id    Student  Roll_No\n",
       "0  S07      Anita      107\n",
       "1  S08      Pooja      108\n",
       "2  S09   Karishma      109\n",
       "3  S10  Aishwarya      110"
      ]
     },
     "execution_count": 7,
     "metadata": {},
     "output_type": "execute_result"
    }
   ],
   "source": [
    "s2"
   ]
  },
  {
   "cell_type": "code",
   "execution_count": 8,
   "id": "bde47844-8753-491e-b8d7-95c47ca4e88e",
   "metadata": {},
   "outputs": [
    {
     "data": {
      "text/plain": [
       "0    Mukund\n",
       "1    Sachin\n",
       "2    Rajesh\n",
       "3    Girish\n",
       "4     Mohan\n",
       "5      Amit\n",
       "Name: Student, dtype: object"
      ]
     },
     "execution_count": 8,
     "metadata": {},
     "output_type": "execute_result"
    }
   ],
   "source": [
    "s1[\"Student\"]"
   ]
  },
  {
   "cell_type": "code",
   "execution_count": 12,
   "id": "dfd9a33f-cdde-4706-a09e-7481f37426a6",
   "metadata": {},
   "outputs": [
    {
     "data": {
      "text/html": [
       "<div>\n",
       "<style scoped>\n",
       "    .dataframe tbody tr th:only-of-type {\n",
       "        vertical-align: middle;\n",
       "    }\n",
       "\n",
       "    .dataframe tbody tr th {\n",
       "        vertical-align: top;\n",
       "    }\n",
       "\n",
       "    .dataframe thead th {\n",
       "        text-align: right;\n",
       "    }\n",
       "</style>\n",
       "<table border=\"1\" class=\"dataframe\">\n",
       "  <thead>\n",
       "    <tr style=\"text-align: right;\">\n",
       "      <th></th>\n",
       "      <th>Student</th>\n",
       "      <th>Roll_No</th>\n",
       "    </tr>\n",
       "  </thead>\n",
       "  <tbody>\n",
       "    <tr>\n",
       "      <th>0</th>\n",
       "      <td>Anita</td>\n",
       "      <td>107</td>\n",
       "    </tr>\n",
       "    <tr>\n",
       "      <th>1</th>\n",
       "      <td>Pooja</td>\n",
       "      <td>108</td>\n",
       "    </tr>\n",
       "    <tr>\n",
       "      <th>2</th>\n",
       "      <td>Karishma</td>\n",
       "      <td>109</td>\n",
       "    </tr>\n",
       "    <tr>\n",
       "      <th>3</th>\n",
       "      <td>Aishwarya</td>\n",
       "      <td>110</td>\n",
       "    </tr>\n",
       "  </tbody>\n",
       "</table>\n",
       "</div>"
      ],
      "text/plain": [
       "     Student  Roll_No\n",
       "0      Anita      107\n",
       "1      Pooja      108\n",
       "2   Karishma      109\n",
       "3  Aishwarya      110"
      ]
     },
     "execution_count": 12,
     "metadata": {},
     "output_type": "execute_result"
    }
   ],
   "source": [
    "s2[[\"Student\",\"Roll_No\"]]"
   ]
  },
  {
   "cell_type": "code",
   "execution_count": 13,
   "id": "d443cb67-47dc-48ea-a3b0-f241bc823eb4",
   "metadata": {},
   "outputs": [
    {
     "data": {
      "text/html": [
       "<div>\n",
       "<style scoped>\n",
       "    .dataframe tbody tr th:only-of-type {\n",
       "        vertical-align: middle;\n",
       "    }\n",
       "\n",
       "    .dataframe tbody tr th {\n",
       "        vertical-align: top;\n",
       "    }\n",
       "\n",
       "    .dataframe thead th {\n",
       "        text-align: right;\n",
       "    }\n",
       "</style>\n",
       "<table border=\"1\" class=\"dataframe\">\n",
       "  <thead>\n",
       "    <tr style=\"text-align: right;\">\n",
       "      <th></th>\n",
       "      <th>Student</th>\n",
       "      <th>Roll_No</th>\n",
       "    </tr>\n",
       "  </thead>\n",
       "  <tbody>\n",
       "    <tr>\n",
       "      <th>0</th>\n",
       "      <td>Mukund</td>\n",
       "      <td>101</td>\n",
       "    </tr>\n",
       "    <tr>\n",
       "      <th>1</th>\n",
       "      <td>Sachin</td>\n",
       "      <td>102</td>\n",
       "    </tr>\n",
       "    <tr>\n",
       "      <th>2</th>\n",
       "      <td>Rajesh</td>\n",
       "      <td>103</td>\n",
       "    </tr>\n",
       "    <tr>\n",
       "      <th>3</th>\n",
       "      <td>Girish</td>\n",
       "      <td>104</td>\n",
       "    </tr>\n",
       "    <tr>\n",
       "      <th>4</th>\n",
       "      <td>Mohan</td>\n",
       "      <td>105</td>\n",
       "    </tr>\n",
       "    <tr>\n",
       "      <th>5</th>\n",
       "      <td>Amit</td>\n",
       "      <td>106</td>\n",
       "    </tr>\n",
       "  </tbody>\n",
       "</table>\n",
       "</div>"
      ],
      "text/plain": [
       "  Student  Roll_No\n",
       "0  Mukund      101\n",
       "1  Sachin      102\n",
       "2  Rajesh      103\n",
       "3  Girish      104\n",
       "4   Mohan      105\n",
       "5    Amit      106"
      ]
     },
     "execution_count": 13,
     "metadata": {},
     "output_type": "execute_result"
    }
   ],
   "source": [
    "s1[[\"Student\",\"Roll_No\"]]"
   ]
  },
  {
   "cell_type": "code",
   "execution_count": 14,
   "id": "401afc82-62ab-4ae3-9920-a8a231ac0340",
   "metadata": {},
   "outputs": [
    {
     "data": {
      "text/plain": [
       "Index(['Id', 'Student'], dtype='object')"
      ]
     },
     "execution_count": 14,
     "metadata": {},
     "output_type": "execute_result"
    }
   ],
   "source": [
    "s1.columns[0:2]"
   ]
  },
  {
   "cell_type": "code",
   "execution_count": 15,
   "id": "538e3cf6-000c-487c-ba47-1fe8df120671",
   "metadata": {},
   "outputs": [],
   "source": [
    "\n",
    "data3={\"Id\":[\"S01\",\"S02\",\"S03\",\"S04\",\"S05\",\"S06\"],\n",
    "       \"Student\":[\"Mukund\",\"Sachin\",\"Rajesh\",\"Girish\",\"Mohan\",\"Amit\"],\n",
    "       \"Roll_No\":[101,102,103,104,105,106],\n",
    "       \"Address\":[\"Germany\",\"Banglore\",\"pune\",\"vadi\",\"vishrantwadi\",\"Khadki\"],\n",
    "       \"Gender\":[\"Male\",\"Male\",\"Male\",\"Male\",\"Male\",\"Male\"]\n",
    "      }"
   ]
  },
  {
   "cell_type": "code",
   "execution_count": 16,
   "id": "fd08a5d7-69b2-4cb7-975c-7cd78742a5f0",
   "metadata": {},
   "outputs": [
    {
     "data": {
      "text/plain": [
       "{'Id': ['S01', 'S02', 'S03', 'S04', 'S05', 'S06'],\n",
       " 'Student': ['Mukund', 'Sachin', 'Rajesh', 'Girish', 'Mohan', 'Amit'],\n",
       " 'Roll_No': [101, 102, 103, 104, 105, 106],\n",
       " 'Address': ['Germany', 'Banglore', 'pune', 'vadi', 'vishrantwadi', 'Khadki'],\n",
       " 'Gender': ['Male', 'Male', 'Male', 'Male', 'Male', 'Male']}"
      ]
     },
     "execution_count": 16,
     "metadata": {},
     "output_type": "execute_result"
    }
   ],
   "source": [
    "data3"
   ]
  },
  {
   "cell_type": "code",
   "execution_count": 17,
   "id": "68f92306-3e90-481a-a841-216fb1673cd8",
   "metadata": {},
   "outputs": [],
   "source": [
    "df4=pd.DataFrame(data3)"
   ]
  },
  {
   "cell_type": "code",
   "execution_count": 18,
   "id": "abe0e114-1fb0-41b1-9c80-1fed7b982740",
   "metadata": {},
   "outputs": [
    {
     "data": {
      "text/html": [
       "<div>\n",
       "<style scoped>\n",
       "    .dataframe tbody tr th:only-of-type {\n",
       "        vertical-align: middle;\n",
       "    }\n",
       "\n",
       "    .dataframe tbody tr th {\n",
       "        vertical-align: top;\n",
       "    }\n",
       "\n",
       "    .dataframe thead th {\n",
       "        text-align: right;\n",
       "    }\n",
       "</style>\n",
       "<table border=\"1\" class=\"dataframe\">\n",
       "  <thead>\n",
       "    <tr style=\"text-align: right;\">\n",
       "      <th></th>\n",
       "      <th>Id</th>\n",
       "      <th>Student</th>\n",
       "      <th>Roll_No</th>\n",
       "      <th>Address</th>\n",
       "      <th>Gender</th>\n",
       "    </tr>\n",
       "  </thead>\n",
       "  <tbody>\n",
       "    <tr>\n",
       "      <th>0</th>\n",
       "      <td>S01</td>\n",
       "      <td>Mukund</td>\n",
       "      <td>101</td>\n",
       "      <td>Germany</td>\n",
       "      <td>Male</td>\n",
       "    </tr>\n",
       "    <tr>\n",
       "      <th>1</th>\n",
       "      <td>S02</td>\n",
       "      <td>Sachin</td>\n",
       "      <td>102</td>\n",
       "      <td>Banglore</td>\n",
       "      <td>Male</td>\n",
       "    </tr>\n",
       "    <tr>\n",
       "      <th>2</th>\n",
       "      <td>S03</td>\n",
       "      <td>Rajesh</td>\n",
       "      <td>103</td>\n",
       "      <td>pune</td>\n",
       "      <td>Male</td>\n",
       "    </tr>\n",
       "    <tr>\n",
       "      <th>3</th>\n",
       "      <td>S04</td>\n",
       "      <td>Girish</td>\n",
       "      <td>104</td>\n",
       "      <td>vadi</td>\n",
       "      <td>Male</td>\n",
       "    </tr>\n",
       "    <tr>\n",
       "      <th>4</th>\n",
       "      <td>S05</td>\n",
       "      <td>Mohan</td>\n",
       "      <td>105</td>\n",
       "      <td>vishrantwadi</td>\n",
       "      <td>Male</td>\n",
       "    </tr>\n",
       "    <tr>\n",
       "      <th>5</th>\n",
       "      <td>S06</td>\n",
       "      <td>Amit</td>\n",
       "      <td>106</td>\n",
       "      <td>Khadki</td>\n",
       "      <td>Male</td>\n",
       "    </tr>\n",
       "  </tbody>\n",
       "</table>\n",
       "</div>"
      ],
      "text/plain": [
       "    Id Student  Roll_No       Address Gender\n",
       "0  S01  Mukund      101       Germany   Male\n",
       "1  S02  Sachin      102      Banglore   Male\n",
       "2  S03  Rajesh      103          pune   Male\n",
       "3  S04  Girish      104          vadi   Male\n",
       "4  S05   Mohan      105  vishrantwadi   Male\n",
       "5  S06    Amit      106        Khadki   Male"
      ]
     },
     "execution_count": 18,
     "metadata": {},
     "output_type": "execute_result"
    }
   ],
   "source": [
    "df4"
   ]
  },
  {
   "cell_type": "code",
   "execution_count": 27,
   "id": "ba650320-943a-41af-9de4-2723ce1f4d41",
   "metadata": {},
   "outputs": [
    {
     "data": {
      "text/html": [
       "<div>\n",
       "<style scoped>\n",
       "    .dataframe tbody tr th:only-of-type {\n",
       "        vertical-align: middle;\n",
       "    }\n",
       "\n",
       "    .dataframe tbody tr th {\n",
       "        vertical-align: top;\n",
       "    }\n",
       "\n",
       "    .dataframe thead th {\n",
       "        text-align: right;\n",
       "    }\n",
       "</style>\n",
       "<table border=\"1\" class=\"dataframe\">\n",
       "  <thead>\n",
       "    <tr style=\"text-align: right;\">\n",
       "      <th></th>\n",
       "      <th>Student</th>\n",
       "      <th>Roll_No</th>\n",
       "      <th>Address</th>\n",
       "    </tr>\n",
       "  </thead>\n",
       "  <tbody>\n",
       "    <tr>\n",
       "      <th>0</th>\n",
       "      <td>Mukund</td>\n",
       "      <td>101</td>\n",
       "      <td>Germany</td>\n",
       "    </tr>\n",
       "    <tr>\n",
       "      <th>1</th>\n",
       "      <td>Sachin</td>\n",
       "      <td>102</td>\n",
       "      <td>Banglore</td>\n",
       "    </tr>\n",
       "    <tr>\n",
       "      <th>2</th>\n",
       "      <td>Rajesh</td>\n",
       "      <td>103</td>\n",
       "      <td>pune</td>\n",
       "    </tr>\n",
       "    <tr>\n",
       "      <th>3</th>\n",
       "      <td>Girish</td>\n",
       "      <td>104</td>\n",
       "      <td>vadi</td>\n",
       "    </tr>\n",
       "    <tr>\n",
       "      <th>4</th>\n",
       "      <td>Mohan</td>\n",
       "      <td>105</td>\n",
       "      <td>vishrantwadi</td>\n",
       "    </tr>\n",
       "    <tr>\n",
       "      <th>5</th>\n",
       "      <td>Amit</td>\n",
       "      <td>106</td>\n",
       "      <td>Khadki</td>\n",
       "    </tr>\n",
       "  </tbody>\n",
       "</table>\n",
       "</div>"
      ],
      "text/plain": [
       "  Student  Roll_No       Address\n",
       "0  Mukund      101       Germany\n",
       "1  Sachin      102      Banglore\n",
       "2  Rajesh      103          pune\n",
       "3  Girish      104          vadi\n",
       "4   Mohan      105  vishrantwadi\n",
       "5    Amit      106        Khadki"
      ]
     },
     "execution_count": 27,
     "metadata": {},
     "output_type": "execute_result"
    }
   ],
   "source": [
    "df4[df4.columns[1:4]]"
   ]
  },
  {
   "cell_type": "code",
   "execution_count": 32,
   "id": "692ccd64-149d-49e0-a964-535334206efc",
   "metadata": {},
   "outputs": [],
   "source": [
    "df4.insert(loc=1 , column=\"Dept\" ,value=[\"comp sci\",\"comp sci\",\"comp sci\",\"comp sci\",\"comp sci\",\"comp sci\"])"
   ]
  },
  {
   "cell_type": "markdown",
   "id": "381a80af-382e-42be-8a01-9a3a941400d2",
   "metadata": {},
   "source": [
    "#### "
   ]
  },
  {
   "cell_type": "code",
   "execution_count": 33,
   "id": "1322a03d-9321-4f2a-a134-2e6c3238c8ec",
   "metadata": {},
   "outputs": [
    {
     "data": {
      "text/html": [
       "<div>\n",
       "<style scoped>\n",
       "    .dataframe tbody tr th:only-of-type {\n",
       "        vertical-align: middle;\n",
       "    }\n",
       "\n",
       "    .dataframe tbody tr th {\n",
       "        vertical-align: top;\n",
       "    }\n",
       "\n",
       "    .dataframe thead th {\n",
       "        text-align: right;\n",
       "    }\n",
       "</style>\n",
       "<table border=\"1\" class=\"dataframe\">\n",
       "  <thead>\n",
       "    <tr style=\"text-align: right;\">\n",
       "      <th></th>\n",
       "      <th>Id</th>\n",
       "      <th>Dept</th>\n",
       "      <th>Student</th>\n",
       "      <th>Roll_No</th>\n",
       "      <th>Address</th>\n",
       "      <th>Gender</th>\n",
       "    </tr>\n",
       "  </thead>\n",
       "  <tbody>\n",
       "    <tr>\n",
       "      <th>0</th>\n",
       "      <td>S01</td>\n",
       "      <td>comp sci</td>\n",
       "      <td>Mukund</td>\n",
       "      <td>101</td>\n",
       "      <td>Germany</td>\n",
       "      <td>Male</td>\n",
       "    </tr>\n",
       "    <tr>\n",
       "      <th>1</th>\n",
       "      <td>S02</td>\n",
       "      <td>comp sci</td>\n",
       "      <td>Sachin</td>\n",
       "      <td>102</td>\n",
       "      <td>Banglore</td>\n",
       "      <td>Male</td>\n",
       "    </tr>\n",
       "    <tr>\n",
       "      <th>2</th>\n",
       "      <td>S03</td>\n",
       "      <td>comp sci</td>\n",
       "      <td>Rajesh</td>\n",
       "      <td>103</td>\n",
       "      <td>pune</td>\n",
       "      <td>Male</td>\n",
       "    </tr>\n",
       "    <tr>\n",
       "      <th>3</th>\n",
       "      <td>S04</td>\n",
       "      <td>comp sci</td>\n",
       "      <td>Girish</td>\n",
       "      <td>104</td>\n",
       "      <td>vadi</td>\n",
       "      <td>Male</td>\n",
       "    </tr>\n",
       "    <tr>\n",
       "      <th>4</th>\n",
       "      <td>S05</td>\n",
       "      <td>comp sci</td>\n",
       "      <td>Mohan</td>\n",
       "      <td>105</td>\n",
       "      <td>vishrantwadi</td>\n",
       "      <td>Male</td>\n",
       "    </tr>\n",
       "    <tr>\n",
       "      <th>5</th>\n",
       "      <td>S06</td>\n",
       "      <td>comp sci</td>\n",
       "      <td>Amit</td>\n",
       "      <td>106</td>\n",
       "      <td>Khadki</td>\n",
       "      <td>Male</td>\n",
       "    </tr>\n",
       "  </tbody>\n",
       "</table>\n",
       "</div>"
      ],
      "text/plain": [
       "    Id      Dept Student  Roll_No       Address Gender\n",
       "0  S01  comp sci  Mukund      101       Germany   Male\n",
       "1  S02  comp sci  Sachin      102      Banglore   Male\n",
       "2  S03  comp sci  Rajesh      103          pune   Male\n",
       "3  S04  comp sci  Girish      104          vadi   Male\n",
       "4  S05  comp sci   Mohan      105  vishrantwadi   Male\n",
       "5  S06  comp sci    Amit      106        Khadki   Male"
      ]
     },
     "execution_count": 33,
     "metadata": {},
     "output_type": "execute_result"
    }
   ],
   "source": [
    "df4"
   ]
  },
  {
   "cell_type": "code",
   "execution_count": null,
   "id": "b9cb3b58-3f76-4ee8-b72f-060864833b2c",
   "metadata": {},
   "outputs": [],
   "source": []
  }
 ],
 "metadata": {
  "kernelspec": {
   "display_name": "Python 3 (ipykernel)",
   "language": "python",
   "name": "python3"
  },
  "language_info": {
   "codemirror_mode": {
    "name": "ipython",
    "version": 3
   },
   "file_extension": ".py",
   "mimetype": "text/x-python",
   "name": "python",
   "nbconvert_exporter": "python",
   "pygments_lexer": "ipython3",
   "version": "3.11.1"
  }
 },
 "nbformat": 4,
 "nbformat_minor": 5
}
