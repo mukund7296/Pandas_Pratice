{
 "cells": [
  {
   "cell_type": "code",
   "execution_count": 1,
   "id": "4cd281fd-49d6-4fee-bc4b-1ce49d5c3e16",
   "metadata": {},
   "outputs": [],
   "source": [
    "import pandas as pd"
   ]
  },
  {
   "cell_type": "code",
   "execution_count": 2,
   "id": "04780c10-db89-4a57-9972-925790bcab4e",
   "metadata": {},
   "outputs": [],
   "source": [
    "#dataset\n",
    "data={\n",
    "    \"Student\":[\"Amit\",\"Jhon\",\"Kapil\",\"Mukund\",\"Sachin\"],\n",
    "    \"Rank\":[1,4,3,5,2],\n",
    "    \"Marks\":[90,70,80,60,90]\n",
    "     }\n",
    "df=pd.DataFrame(data,index=[\"RowA\",\"RowB\",\"RowC\",\"RowD\",\"RowE\"])"
   ]
  },
  {
   "cell_type": "code",
   "execution_count": 3,
   "id": "f91460eb-c78d-4cb0-aa66-126853f1b2f4",
   "metadata": {},
   "outputs": [],
   "source": [
    "df=pd.DataFrame(data,index=[\"RowA\",\"RowB\",\"RowC\",\"RowD\",\"RowE\"])"
   ]
  },
  {
   "cell_type": "code",
   "execution_count": 4,
   "id": "94f52bf3-41c6-4e80-af7f-b55b57f47e61",
   "metadata": {},
   "outputs": [
    {
     "data": {
      "text/html": [
       "<div>\n",
       "<style scoped>\n",
       "    .dataframe tbody tr th:only-of-type {\n",
       "        vertical-align: middle;\n",
       "    }\n",
       "\n",
       "    .dataframe tbody tr th {\n",
       "        vertical-align: top;\n",
       "    }\n",
       "\n",
       "    .dataframe thead th {\n",
       "        text-align: right;\n",
       "    }\n",
       "</style>\n",
       "<table border=\"1\" class=\"dataframe\">\n",
       "  <thead>\n",
       "    <tr style=\"text-align: right;\">\n",
       "      <th></th>\n",
       "      <th>Student</th>\n",
       "      <th>Rank</th>\n",
       "      <th>Marks</th>\n",
       "    </tr>\n",
       "  </thead>\n",
       "  <tbody>\n",
       "    <tr>\n",
       "      <th>RowA</th>\n",
       "      <td>Amit</td>\n",
       "      <td>1</td>\n",
       "      <td>90</td>\n",
       "    </tr>\n",
       "    <tr>\n",
       "      <th>RowB</th>\n",
       "      <td>Jhon</td>\n",
       "      <td>4</td>\n",
       "      <td>70</td>\n",
       "    </tr>\n",
       "    <tr>\n",
       "      <th>RowC</th>\n",
       "      <td>Kapil</td>\n",
       "      <td>3</td>\n",
       "      <td>80</td>\n",
       "    </tr>\n",
       "    <tr>\n",
       "      <th>RowD</th>\n",
       "      <td>Mukund</td>\n",
       "      <td>5</td>\n",
       "      <td>60</td>\n",
       "    </tr>\n",
       "    <tr>\n",
       "      <th>RowE</th>\n",
       "      <td>Sachin</td>\n",
       "      <td>2</td>\n",
       "      <td>90</td>\n",
       "    </tr>\n",
       "  </tbody>\n",
       "</table>\n",
       "</div>"
      ],
      "text/plain": [
       "     Student  Rank  Marks\n",
       "RowA    Amit     1     90\n",
       "RowB    Jhon     4     70\n",
       "RowC   Kapil     3     80\n",
       "RowD  Mukund     5     60\n",
       "RowE  Sachin     2     90"
      ]
     },
     "execution_count": 4,
     "metadata": {},
     "output_type": "execute_result"
    }
   ],
   "source": [
    "df"
   ]
  },
  {
   "cell_type": "code",
   "execution_count": 5,
   "id": "98aed967-dc1c-4185-82d0-679b4a52705d",
   "metadata": {},
   "outputs": [
    {
     "data": {
      "text/plain": [
       "Student    Amit\n",
       "Rank          1\n",
       "Marks        90\n",
       "Name: RowA, dtype: object"
      ]
     },
     "execution_count": 5,
     "metadata": {},
     "output_type": "execute_result"
    }
   ],
   "source": [
    "#Acess elements rows and columns \n",
    "df.iloc[0]"
   ]
  },
  {
   "cell_type": "code",
   "execution_count": 7,
   "id": "b35048bc-b19f-41e4-a872-60789fa9c319",
   "metadata": {},
   "outputs": [
    {
     "name": "stderr",
     "output_type": "stream",
     "text": [
      "/var/folders/k_/_m1x_q0s6fz1vqc2z_c5n76h0000gn/T/ipykernel_7574/2900375399.py:1: FutureWarning: Series.__getitem__ treating keys as positions is deprecated. In a future version, integer keys will always be treated as labels (consistent with DataFrame behavior). To access a value by position, use `ser.iloc[pos]`\n",
      "  df.iloc[0][0]\n"
     ]
    },
    {
     "data": {
      "text/plain": [
       "'Amit'"
      ]
     },
     "execution_count": 7,
     "metadata": {},
     "output_type": "execute_result"
    }
   ],
   "source": [
    "df.iloc[0][0]"
   ]
  },
  {
   "cell_type": "code",
   "execution_count": 11,
   "id": "88d1e9a3-250b-41d1-a34e-ae5413729302",
   "metadata": {},
   "outputs": [
    {
     "data": {
      "text/html": [
       "<div>\n",
       "<style scoped>\n",
       "    .dataframe tbody tr th:only-of-type {\n",
       "        vertical-align: middle;\n",
       "    }\n",
       "\n",
       "    .dataframe tbody tr th {\n",
       "        vertical-align: top;\n",
       "    }\n",
       "\n",
       "    .dataframe thead th {\n",
       "        text-align: right;\n",
       "    }\n",
       "</style>\n",
       "<table border=\"1\" class=\"dataframe\">\n",
       "  <thead>\n",
       "    <tr style=\"text-align: right;\">\n",
       "      <th></th>\n",
       "      <th>Student</th>\n",
       "      <th>Rank</th>\n",
       "      <th>Marks</th>\n",
       "    </tr>\n",
       "  </thead>\n",
       "  <tbody>\n",
       "    <tr>\n",
       "      <th>RowA</th>\n",
       "      <td>Amit</td>\n",
       "      <td>1</td>\n",
       "      <td>90</td>\n",
       "    </tr>\n",
       "    <tr>\n",
       "      <th>RowB</th>\n",
       "      <td>Jhon</td>\n",
       "      <td>4</td>\n",
       "      <td>70</td>\n",
       "    </tr>\n",
       "  </tbody>\n",
       "</table>\n",
       "</div>"
      ],
      "text/plain": [
       "     Student  Rank  Marks\n",
       "RowA    Amit     1     90\n",
       "RowB    Jhon     4     70"
      ]
     },
     "execution_count": 11,
     "metadata": {},
     "output_type": "execute_result"
    }
   ],
   "source": [
    "df.iloc[[0,1]]"
   ]
  },
  {
   "cell_type": "code",
   "execution_count": 13,
   "id": "73ec15b6-dcfd-4292-b504-d55be406ba1b",
   "metadata": {},
   "outputs": [
    {
     "data": {
      "text/plain": [
       "Student    Mukund\n",
       "Rank            5\n",
       "Marks          60\n",
       "Name: RowD, dtype: object"
      ]
     },
     "execution_count": 13,
     "metadata": {},
     "output_type": "execute_result"
    }
   ],
   "source": [
    "df.iloc[[3,4][0]]"
   ]
  },
  {
   "cell_type": "code",
   "execution_count": 14,
   "id": "c7a0fe40-7c38-4f91-ae02-d73d4f59c125",
   "metadata": {},
   "outputs": [
    {
     "data": {
      "text/plain": [
       "Student    Sachin\n",
       "Rank            2\n",
       "Marks          90\n",
       "Name: RowE, dtype: object"
      ]
     },
     "execution_count": 14,
     "metadata": {},
     "output_type": "execute_result"
    }
   ],
   "source": [
    "df.iloc[[3,4][1]]"
   ]
  },
  {
   "cell_type": "code",
   "execution_count": 16,
   "id": "32ff5b0e-ba25-4255-a8d3-f70782ace911",
   "metadata": {},
   "outputs": [
    {
     "data": {
      "text/plain": [
       "Student    Sachin\n",
       "Rank            2\n",
       "Marks          90\n",
       "Name: RowE, dtype: object"
      ]
     },
     "execution_count": 16,
     "metadata": {},
     "output_type": "execute_result"
    }
   ],
   "source": [
    "df.iloc[[3,4][1]]"
   ]
  },
  {
   "cell_type": "code",
   "execution_count": 17,
   "id": "c4f591f5-cf75-492c-9ba2-c8865127e58b",
   "metadata": {},
   "outputs": [
    {
     "data": {
      "text/plain": [
       "Student    Amit\n",
       "Rank          1\n",
       "Marks        90\n",
       "Name: RowA, dtype: object"
      ]
     },
     "execution_count": 17,
     "metadata": {},
     "output_type": "execute_result"
    }
   ],
   "source": [
    "df.loc[\"RowA\"]"
   ]
  },
  {
   "cell_type": "code",
   "execution_count": null,
   "id": "e52c113d-defe-465d-b0fd-cd92d7af427e",
   "metadata": {},
   "outputs": [],
   "source": []
  }
 ],
 "metadata": {
  "kernelspec": {
   "display_name": "Python 3 (ipykernel)",
   "language": "python",
   "name": "python3"
  },
  "language_info": {
   "codemirror_mode": {
    "name": "ipython",
    "version": 3
   },
   "file_extension": ".py",
   "mimetype": "text/x-python",
   "name": "python",
   "nbconvert_exporter": "python",
   "pygments_lexer": "ipython3",
   "version": "3.11.1"
  }
 },
 "nbformat": 4,
 "nbformat_minor": 5
}
