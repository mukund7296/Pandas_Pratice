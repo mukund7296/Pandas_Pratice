{
 "cells": [
  {
   "cell_type": "code",
   "execution_count": 1,
   "id": "c218da1f-f8ec-4ff0-b627-9ae216374989",
   "metadata": {},
   "outputs": [],
   "source": [
    "import pandas as pd"
   ]
  },
  {
   "cell_type": "code",
   "execution_count": 2,
   "id": "88512f25-c25e-4c47-a3bc-0345d44e7f8b",
   "metadata": {},
   "outputs": [],
   "source": [
    "#dataset\n",
    "data={\n",
    "    \"Student\":[\"Amit\",\"Jhon\",\"Kapil\",\"Mukund\",\"Sachin\"],\n",
    "    \"Rank\":[1,4,3,5,2],\n",
    "    \"Marks\":[90,70,80,60,90]\n",
    "     }\n"
   ]
  },
  {
   "cell_type": "code",
   "execution_count": 3,
   "id": "334de6d8-2897-464d-be8b-0d270601f564",
   "metadata": {},
   "outputs": [],
   "source": [
    "df=pd.DataFrame(data,index=[\"Row_A\",\"Row_B\",\"Row_C\",\"Row_D\",\"Row_E\"])"
   ]
  },
  {
   "cell_type": "code",
   "execution_count": 4,
   "id": "7a5898d2-6bdd-438a-be68-d1da214df2de",
   "metadata": {},
   "outputs": [
    {
     "data": {
      "text/html": [
       "<div>\n",
       "<style scoped>\n",
       "    .dataframe tbody tr th:only-of-type {\n",
       "        vertical-align: middle;\n",
       "    }\n",
       "\n",
       "    .dataframe tbody tr th {\n",
       "        vertical-align: top;\n",
       "    }\n",
       "\n",
       "    .dataframe thead th {\n",
       "        text-align: right;\n",
       "    }\n",
       "</style>\n",
       "<table border=\"1\" class=\"dataframe\">\n",
       "  <thead>\n",
       "    <tr style=\"text-align: right;\">\n",
       "      <th></th>\n",
       "      <th>Student</th>\n",
       "      <th>Rank</th>\n",
       "      <th>Marks</th>\n",
       "    </tr>\n",
       "  </thead>\n",
       "  <tbody>\n",
       "    <tr>\n",
       "      <th>Row_A</th>\n",
       "      <td>Amit</td>\n",
       "      <td>1</td>\n",
       "      <td>90</td>\n",
       "    </tr>\n",
       "    <tr>\n",
       "      <th>Row_B</th>\n",
       "      <td>Jhon</td>\n",
       "      <td>4</td>\n",
       "      <td>70</td>\n",
       "    </tr>\n",
       "    <tr>\n",
       "      <th>Row_C</th>\n",
       "      <td>Kapil</td>\n",
       "      <td>3</td>\n",
       "      <td>80</td>\n",
       "    </tr>\n",
       "    <tr>\n",
       "      <th>Row_D</th>\n",
       "      <td>Mukund</td>\n",
       "      <td>5</td>\n",
       "      <td>60</td>\n",
       "    </tr>\n",
       "    <tr>\n",
       "      <th>Row_E</th>\n",
       "      <td>Sachin</td>\n",
       "      <td>2</td>\n",
       "      <td>90</td>\n",
       "    </tr>\n",
       "  </tbody>\n",
       "</table>\n",
       "</div>"
      ],
      "text/plain": [
       "      Student  Rank  Marks\n",
       "Row_A    Amit     1     90\n",
       "Row_B    Jhon     4     70\n",
       "Row_C   Kapil     3     80\n",
       "Row_D  Mukund     5     60\n",
       "Row_E  Sachin     2     90"
      ]
     },
     "execution_count": 4,
     "metadata": {},
     "output_type": "execute_result"
    }
   ],
   "source": [
    "df"
   ]
  },
  {
   "cell_type": "code",
   "execution_count": 7,
   "id": "b486acf5-cbf7-42fa-bb25-ad769c27ca88",
   "metadata": {},
   "outputs": [
    {
     "data": {
      "text/plain": [
       "Student    Amit\n",
       "Rank          1\n",
       "Marks        90\n",
       "Name: Row_A, dtype: object"
      ]
     },
     "execution_count": 7,
     "metadata": {},
     "output_type": "execute_result"
    }
   ],
   "source": [
    "df.loc[\"Row_A\"]"
   ]
  },
  {
   "cell_type": "code",
   "execution_count": 17,
   "id": "8aba7ca1-193a-42ba-a2c3-3c61cf509050",
   "metadata": {},
   "outputs": [],
   "source": [
    "df=pd.DataFrame(data,index=[\"RowA\",\"RowB\",\"RowC\",\"RowD\",\"RowE\"])"
   ]
  },
  {
   "cell_type": "code",
   "execution_count": 19,
   "id": "afc1f2c4-6fb9-4718-949e-a0779cb06779",
   "metadata": {},
   "outputs": [
    {
     "data": {
      "text/plain": [
       "Student    Sachin\n",
       "Rank            2\n",
       "Marks          90\n",
       "Name: RowE, dtype: object"
      ]
     },
     "execution_count": 19,
     "metadata": {},
     "output_type": "execute_result"
    }
   ],
   "source": [
    "df.loc[\"RowE\"]"
   ]
  },
  {
   "cell_type": "code",
   "execution_count": 20,
   "id": "cbaad0f2-4c46-407f-b872-58b30256da0f",
   "metadata": {},
   "outputs": [
    {
     "data": {
      "text/plain": [
       "Student    Mukund\n",
       "Rank            5\n",
       "Marks          60\n",
       "Name: RowD, dtype: object"
      ]
     },
     "execution_count": 20,
     "metadata": {},
     "output_type": "execute_result"
    }
   ],
   "source": [
    "df.loc[\"RowD\"]"
   ]
  },
  {
   "cell_type": "code",
   "execution_count": 21,
   "id": "435b3908-5f9a-4e19-aef2-1583cc6d6d91",
   "metadata": {},
   "outputs": [
    {
     "data": {
      "text/plain": [
       "np.int64(60)"
      ]
     },
     "execution_count": 21,
     "metadata": {},
     "output_type": "execute_result"
    }
   ],
   "source": [
    "df.loc[\"RowD\"][\"Marks\"]"
   ]
  },
  {
   "cell_type": "code",
   "execution_count": 22,
   "id": "8c136890-6d9c-4471-ae6f-282168c49708",
   "metadata": {},
   "outputs": [
    {
     "data": {
      "text/plain": [
       "'Mukund'"
      ]
     },
     "execution_count": 22,
     "metadata": {},
     "output_type": "execute_result"
    }
   ],
   "source": [
    "df.loc[\"RowD\"][\"Student\"]"
   ]
  },
  {
   "cell_type": "code",
   "execution_count": 23,
   "id": "3e9e3c13-bc33-4d86-9bef-755b3792cdbf",
   "metadata": {},
   "outputs": [
    {
     "data": {
      "text/html": [
       "<div>\n",
       "<style scoped>\n",
       "    .dataframe tbody tr th:only-of-type {\n",
       "        vertical-align: middle;\n",
       "    }\n",
       "\n",
       "    .dataframe tbody tr th {\n",
       "        vertical-align: top;\n",
       "    }\n",
       "\n",
       "    .dataframe thead th {\n",
       "        text-align: right;\n",
       "    }\n",
       "</style>\n",
       "<table border=\"1\" class=\"dataframe\">\n",
       "  <thead>\n",
       "    <tr style=\"text-align: right;\">\n",
       "      <th></th>\n",
       "      <th>Student</th>\n",
       "      <th>Rank</th>\n",
       "      <th>Marks</th>\n",
       "    </tr>\n",
       "  </thead>\n",
       "  <tbody>\n",
       "    <tr>\n",
       "      <th>RowA</th>\n",
       "      <td>Amit</td>\n",
       "      <td>1</td>\n",
       "      <td>90</td>\n",
       "    </tr>\n",
       "    <tr>\n",
       "      <th>RowB</th>\n",
       "      <td>Jhon</td>\n",
       "      <td>4</td>\n",
       "      <td>70</td>\n",
       "    </tr>\n",
       "    <tr>\n",
       "      <th>RowC</th>\n",
       "      <td>Kapil</td>\n",
       "      <td>3</td>\n",
       "      <td>80</td>\n",
       "    </tr>\n",
       "    <tr>\n",
       "      <th>RowD</th>\n",
       "      <td>Mukund</td>\n",
       "      <td>5</td>\n",
       "      <td>60</td>\n",
       "    </tr>\n",
       "    <tr>\n",
       "      <th>RowE</th>\n",
       "      <td>Sachin</td>\n",
       "      <td>2</td>\n",
       "      <td>90</td>\n",
       "    </tr>\n",
       "  </tbody>\n",
       "</table>\n",
       "</div>"
      ],
      "text/plain": [
       "     Student  Rank  Marks\n",
       "RowA    Amit     1     90\n",
       "RowB    Jhon     4     70\n",
       "RowC   Kapil     3     80\n",
       "RowD  Mukund     5     60\n",
       "RowE  Sachin     2     90"
      ]
     },
     "execution_count": 23,
     "metadata": {},
     "output_type": "execute_result"
    }
   ],
   "source": [
    "df"
   ]
  },
  {
   "cell_type": "code",
   "execution_count": null,
   "id": "4fd11dfc-b08c-420f-9e3c-acd897360296",
   "metadata": {},
   "outputs": [],
   "source": []
  }
 ],
 "metadata": {
  "kernelspec": {
   "display_name": "Python 3 (ipykernel)",
   "language": "python",
   "name": "python3"
  },
  "language_info": {
   "codemirror_mode": {
    "name": "ipython",
    "version": 3
   },
   "file_extension": ".py",
   "mimetype": "text/x-python",
   "name": "python",
   "nbconvert_exporter": "python",
   "pygments_lexer": "ipython3",
   "version": "3.11.1"
  }
 },
 "nbformat": 4,
 "nbformat_minor": 5
}
